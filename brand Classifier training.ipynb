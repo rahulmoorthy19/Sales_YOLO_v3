{
 "cells": [
  {
   "cell_type": "code",
   "execution_count": 1,
   "metadata": {},
   "outputs": [],
   "source": [
    "import numpy as np\n",
    "from sklearn.svm import LinearSVC\n",
    "from sklearn.calibration import CalibratedClassifierCV\n",
    "from sklearn.preprocessing import StandardScaler\n",
    "import pickle\n",
    "from sklearn.metrics import accuracy_score, f1_score, precision_score, recall_score, auc"
   ]
  },
  {
   "cell_type": "code",
   "execution_count": 2,
   "metadata": {},
   "outputs": [],
   "source": [
    "def load_data():\n",
    "    train_brand_array = np.load(\"features\\\\hog_brand_train_array.npy\")\n",
    "    train_brand_label = np.load(\"features\\\\hog_brand_train_label.npy\")\n",
    "    test_brand_array = np.load(\"features\\\\hog_brand_test_array.npy\")\n",
    "    test_brand_label = np.load(\"features\\\\hog_brand_test_label.npy\")\n",
    "    return train_brand_array, train_brand_label, test_brand_array, test_brand_label"
   ]
  },
  {
   "cell_type": "code",
   "execution_count": 3,
   "metadata": {},
   "outputs": [],
   "source": [
    "def data_scaler(train_data, test_data, scaler):\n",
    "    scaler.fit(train_data)\n",
    "    train_data = scaler.transform(train_data)\n",
    "    test_data = scaler.transform(test_data)\n",
    "    return train_data, test_data, scaler"
   ]
  },
  {
   "cell_type": "code",
   "execution_count": 4,
   "metadata": {},
   "outputs": [],
   "source": [
    "def performance_measure(test_data, test_label, model_object):\n",
    "    predictions = model_object.predict(test_data)\n",
    "    print(\"Performance of classifier is:\")\n",
    "    print(\"Accuracy Score:\" +str(accuracy_score(test_label, predictions)))\n",
    "    print(\"F1 Score:\" +str(f1_score(test_label, predictions, average = \"weighted\")))\n",
    "    print(\"Precision Score:\" +str(precision_score(test_label, predictions, average = \"weighted\")))\n",
    "    print(\"Recall:\" +str(recall_score(test_label, predictions, average = \"weighted\")))\n",
    "#     print(\"mean Average precision:\" +str(auc(test_label, predictions)))"
   ]
  },
  {
   "cell_type": "code",
   "execution_count": 5,
   "metadata": {},
   "outputs": [],
   "source": [
    "def training_classifier():\n",
    "    train_data, train_label, test_data, test_label = load_data()\n",
    "    print(train_data.shape)\n",
    "    model_brand = CalibratedClassifierCV(LinearSVC())\n",
    "    hog_brand_scaler = StandardScaler()\n",
    "    train_data, test_data, hog_product_scaler = data_scaler(train_data,\n",
    "                                                            test_data,\n",
    "                                                            hog_brand_scaler)\n",
    "    pickle.dump(hog_product_scaler, open('scalers\\\\hog_brand_scaler.pkl','wb'))\n",
    "    model_brand.fit(train_data, train_label)\n",
    "    performance_measure(test_data, test_label, model_brand)\n",
    "    pickle.dump(model_brand, open('models\\\\hog_brand_model.pkl','wb'))\n",
    "    print(\"Training of the model Done\")"
   ]
  },
  {
   "cell_type": "code",
   "execution_count": 6,
   "metadata": {},
   "outputs": [
    {
     "name": "stdout",
     "output_type": "stream",
     "text": [
      "(5820, 5880)\n"
     ]
    },
    {
     "name": "stderr",
     "output_type": "stream",
     "text": [
      "C:\\Users\\SirzechLucifer\\Anaconda3\\lib\\site-packages\\sklearn\\model_selection\\_split.py:1978: FutureWarning: The default value of cv will change from 3 to 5 in version 0.22. Specify it explicitly to silence this warning.\n",
      "  warnings.warn(CV_WARNING, FutureWarning)\n"
     ]
    },
    {
     "name": "stdout",
     "output_type": "stream",
     "text": [
      "Performance of classifier is:\n",
      "Accuracy Score:0.96\n",
      "F1 Score:0.959648280578047\n",
      "Precision Score:0.9613858967546328\n",
      "Recall:0.96\n",
      "Training of the model Done\n"
     ]
    }
   ],
   "source": [
    "training_classifier()"
   ]
  },
  {
   "cell_type": "code",
   "execution_count": null,
   "metadata": {},
   "outputs": [],
   "source": []
  }
 ],
 "metadata": {
  "kernelspec": {
   "display_name": "Python 3",
   "language": "python",
   "name": "python3"
  },
  "language_info": {
   "codemirror_mode": {
    "name": "ipython",
    "version": 3
   },
   "file_extension": ".py",
   "mimetype": "text/x-python",
   "name": "python",
   "nbconvert_exporter": "python",
   "pygments_lexer": "ipython3",
   "version": "3.7.4"
  }
 },
 "nbformat": 4,
 "nbformat_minor": 2
}

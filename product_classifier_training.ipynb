{
 "cells": [
  {
   "cell_type": "code",
   "execution_count": 1,
   "metadata": {},
   "outputs": [],
   "source": [
    "import numpy as np\n",
    "from sklearn.svm import LinearSVC\n",
    "from sklearn.preprocessing import StandardScaler\n",
    "import pickle\n",
    "from sklearn.metrics import accuracy_score, f1_score, precision_score, recall_score, average_precision_score\n",
    "import tensorflow as tf\n",
    "from tensorflow.keras.models import Sequential\n",
    "from tensorflow.keras.layers import Dense"
   ]
  },
  {
   "cell_type": "code",
   "execution_count": 2,
   "metadata": {},
   "outputs": [],
   "source": [
    "def load_data():\n",
    "    train_product_array = np.load(\"features\\\\hog_product_train_array.npy\")\n",
    "    train_product_label = np.load(\"features\\\\hog_product_train_label.npy\")\n",
    "    test_product_array = np.load(\"features\\\\hog_product_test_array.npy\")\n",
    "    test_product_label = np.load(\"features\\\\hog_product_test_label.npy\")\n",
    "    return train_product_array, train_product_label, test_product_array, test_product_label"
   ]
  },
  {
   "cell_type": "code",
   "execution_count": 3,
   "metadata": {},
   "outputs": [],
   "source": [
    "def data_scaler(train_data, test_data, scaler):\n",
    "    scaler.fit(train_data)\n",
    "    train_data = scaler.transform(train_data)\n",
    "    test_data = scaler.transform(test_data)\n",
    "    return train_data, test_data, scaler"
   ]
  },
  {
   "cell_type": "code",
   "execution_count": 5,
   "metadata": {},
   "outputs": [],
   "source": [
    "def performance_measure(test_data, test_label, model_object):\n",
    "    predictions = model_object.predict_classes(test_data)\n",
    "    print(\"Performance of classifier is:\")\n",
    "    print(\"Accuracy Score:\" +str(accuracy_score(test_label, predictions)))\n",
    "    print(\"F1 Score:\" +str(f1_score(test_label, predictions)))\n",
    "    print(\"Precision Score:\" +str(precision_score(test_label, predictions)))\n",
    "    print(\"Recall:\" +str(recall_score(test_label, predictions)))\n",
    "    print(\"mean Average precision:\" +str(average_precision_score(test_label, predictions)))"
   ]
  },
  {
   "cell_type": "code",
   "execution_count": 6,
   "metadata": {},
   "outputs": [],
   "source": [
    "def training_classifier():\n",
    "    train_data, train_label, test_data, test_label = load_data()\n",
    "    hog_product_scaler = StandardScaler()\n",
    "    train_data, test_data, hog_product_scaler = data_scaler(train_data,\n",
    "                                                            test_data,\n",
    "                                                            hog_product_scaler)\n",
    "#     pickle.dump(hog_product_scaler, open('scalers\\\\hog_product_scaler.pkl','wb'))\n",
    "    model_product = Sequential()\n",
    "    model_product.add(Dense(12, input_dim=5880, activation='relu'))\n",
    "    model_product.add(Dense(1, activation='sigmoid'))\n",
    "    model_product.compile(loss='binary_crossentropy', optimizer='adam', metrics=['accuracy'])\n",
    "    model_product.fit(train_data, train_label, epochs=10, batch_size=10)\n",
    "    performance_measure(test_data, test_label, model_product)\n",
    "#     model_product.save(\"models\\\\hog_product_model.h5\")\n",
    "    print(\"Training of the model Done\")"
   ]
  },
  {
   "cell_type": "code",
   "execution_count": 7,
   "metadata": {},
   "outputs": [
    {
     "name": "stdout",
     "output_type": "stream",
     "text": [
      "Epoch 1/10\n",
      "1424/1424 [==============================] - 2s 1ms/step - loss: 0.2749 - accuracy: 0.8961\n",
      "Epoch 2/10\n",
      "1424/1424 [==============================] - 2s 1ms/step - loss: 0.1138 - accuracy: 0.9559\n",
      "Epoch 3/10\n",
      "1424/1424 [==============================] - 2s 1ms/step - loss: 0.0728 - accuracy: 0.9721\n",
      "Epoch 4/10\n",
      "1424/1424 [==============================] - 2s 1ms/step - loss: 0.0557 - accuracy: 0.9798\n",
      "Epoch 5/10\n",
      "1424/1424 [==============================] - 2s 1ms/step - loss: 0.0354 - accuracy: 0.9876\n",
      "Epoch 6/10\n",
      "1424/1424 [==============================] - 2s 1ms/step - loss: 0.0315 - accuracy: 0.9879\n",
      "Epoch 7/10\n",
      "1424/1424 [==============================] - 2s 1ms/step - loss: 0.0252 - accuracy: 0.9909\n",
      "Epoch 8/10\n",
      "1424/1424 [==============================] - 2s 1ms/step - loss: 0.0245 - accuracy: 0.9909\n",
      "Epoch 9/10\n",
      "1424/1424 [==============================] - 2s 1ms/step - loss: 0.0122 - accuracy: 0.9956\n",
      "Epoch 10/10\n",
      "1424/1424 [==============================] - 2s 1ms/step - loss: 0.0153 - accuracy: 0.9952\n",
      "WARNING:tensorflow:From <ipython-input-5-21c3633a9096>:2: Sequential.predict_classes (from tensorflow.python.keras.engine.sequential) is deprecated and will be removed after 2021-01-01.\n",
      "Instructions for updating:\n",
      "Please use instead:* `np.argmax(model.predict(x), axis=-1)`,   if your model does multi-class classification   (e.g. if it uses a `softmax` last-layer activation).* `(model.predict(x) > 0.5).astype(\"int32\")`,   if your model does binary classification   (e.g. if it uses a `sigmoid` last-layer activation).\n",
      "Performance of classifier is:\n",
      "Accuracy Score:0.9154078549848943\n",
      "F1 Score:0.8148760330578513\n",
      "Precision Score:0.8427350427350427\n",
      "Recall:0.7888\n",
      "mean Average precision:0.714598344307589\n",
      "0.871661492832427\n",
      "Training of the model Done\n"
     ]
    }
   ],
   "source": [
    "training_classifier()"
   ]
  },
  {
   "cell_type": "code",
   "execution_count": null,
   "metadata": {},
   "outputs": [],
   "source": []
  }
 ],
 "metadata": {
  "kernelspec": {
   "display_name": "Python 3",
   "language": "python",
   "name": "python3"
  },
  "language_info": {
   "codemirror_mode": {
    "name": "ipython",
    "version": 3
   },
   "file_extension": ".py",
   "mimetype": "text/x-python",
   "name": "python",
   "nbconvert_exporter": "python",
   "pygments_lexer": "ipython3",
   "version": "3.7.4"
  }
 },
 "nbformat": 4,
 "nbformat_minor": 2
}

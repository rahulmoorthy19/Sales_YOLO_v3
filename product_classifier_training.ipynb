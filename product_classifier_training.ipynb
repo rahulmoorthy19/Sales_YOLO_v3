{
 "cells": [
  {
   "cell_type": "code",
   "execution_count": 1,
   "metadata": {},
   "outputs": [],
   "source": [
    "import numpy as np\n",
    "from sklearn.svm import LinearSVC\n",
    "from sklearn.preprocessing import StandardScaler\n",
    "import pickle\n",
    "from sklearn.metrics import accuracy_score, f1_score"
   ]
  },
  {
   "cell_type": "code",
   "execution_count": 2,
   "metadata": {},
   "outputs": [],
   "source": [
    "def load_training_data():\n",
    "    train_product_array = np.load(\"features\\\\hog_product_train_array.npy\")\n",
    "    train_brand_array = np.load(\"features\\\\hog_brand_train_array.npy\")\n",
    "    train_product_label = np.load(\"features\\\\hog_product_train_label.npy\")\n",
    "    train_brand_label = np.load(\"features\\\\hog_brand_train_label.npy\")\n",
    "    return train_product_array, train_product_label, train_brand_array, train_brand_label"
   ]
  },
  {
   "cell_type": "code",
   "execution_count": 3,
   "metadata": {},
   "outputs": [],
   "source": [
    "def load_testing_data():\n",
    "    test_product_array = np.load(\"features\\\\hog_product_test_array.npy\")\n",
    "    test_brand_array = np.load(\"features\\\\hog_brand_test_array.npy\")\n",
    "    test_product_label = np.load(\"features\\\\hog_product_test_label.npy\")\n",
    "    test_brand_label = np.load(\"features\\\\hog_brand_test_label.npy\")\n",
    "    return test_product_array, test_product_label, test_brand_array, test_brand_label"
   ]
  },
  {
   "cell_type": "code",
   "execution_count": 4,
   "metadata": {},
   "outputs": [],
   "source": [
    "def data_scaler(train_data, test_data, scaler):\n",
    "    scaler.fit(train_data)\n",
    "    train_data = scaler.transform(train_data)\n",
    "    test_data = scaler.transform(test_data)\n",
    "    return train_data, test_data, scaler"
   ]
  },
  {
   "cell_type": "code",
   "execution_count": 5,
   "metadata": {},
   "outputs": [],
   "source": [
    "def performance_measure(test_data, test_label, model_object, name):\n",
    "    predictions = model_object.predict(test_data)\n",
    "    print(\"Performance of \"+name+\" classifier is:\")\n",
    "    print(\"Accuracy Score:\" +str(accuracy_score(test_label, predictions)))\n",
    "    print(\"F1 Score:\" +str(f1_score(test_label, predictions, average = \"weighted\")))"
   ]
  },
  {
   "cell_type": "code",
   "execution_count": 6,
   "metadata": {},
   "outputs": [],
   "source": [
    "def training_classifier():\n",
    "    train_product_data, train_product_label, train_brand_data, train_brand_label = load_training_data()\n",
    "    test_product_data, test_product_label, test_brand_data, test_brand_label = load_testing_data()\n",
    "    model_product = LinearSVC()\n",
    "    model_brand = LinearSVC()\n",
    "    hog_product_scaler = StandardScaler()\n",
    "    hog_brand_scaler = StandardScaler()\n",
    "    train_product_data, test_product_data, hog_product_scaler = data_scaler(train_product_data,\n",
    "                                                                           test_product_data,\n",
    "                                                                           hog_product_scaler)\n",
    "    train_brand_data, test_brand_data, hog_brand_scaler = data_scaler(train_brand_data,\n",
    "                                                                      test_brand_data,\n",
    "                                                                      hog_brand_scaler)\n",
    "    pickle.dump(hog_product_scaler, open('scalers\\\\hog_product_scaler.pkl','wb'))\n",
    "    pickle.dump(hog_brand_scaler, open('scalers\\\\hog_brand_scaler.pkl','wb'))\n",
    "    model_product.fit(train_product_data, train_product_label)\n",
    "    performance_measure(test_product_data, test_product_label, model_product, \"product\")\n",
    "    model_brand.fit(train_brand_data, train_brand_label)\n",
    "    performance_measure(test_brand_data, test_brand_label, model_brand, \"brand\")\n",
    "    pickle.dump(model_product, open('models\\\\hog_product_model.pkl','wb'))\n",
    "    pickle.dump(model_brand, open('models\\\\hog_brand_model.pkl','wb'))\n",
    "    print(\"Training of the model Done\")"
   ]
  },
  {
   "cell_type": "code",
   "execution_count": 7,
   "metadata": {},
   "outputs": [
    {
     "name": "stderr",
     "output_type": "stream",
     "text": [
      "C:\\Users\\SirzechLucifer\\Anaconda3\\lib\\site-packages\\sklearn\\svm\\base.py:929: ConvergenceWarning: Liblinear failed to converge, increase the number of iterations.\n",
      "  \"the number of iterations.\", ConvergenceWarning)\n"
     ]
    },
    {
     "name": "stdout",
     "output_type": "stream",
     "text": [
      "Performance of product classifier is:\n",
      "Accuracy Score:0.8874622356495468\n",
      "F1 Score:0.8893424030729381\n",
      "Performance of brand classifier is:\n",
      "Accuracy Score:0.9632\n",
      "F1 Score:0.9646992898294767\n",
      "Training of the model Done\n"
     ]
    }
   ],
   "source": [
    "training_classifier()"
   ]
  },
  {
   "cell_type": "code",
   "execution_count": null,
   "metadata": {},
   "outputs": [],
   "source": [
    "def preprocessing_input_image(img, img_size):\n",
    "    grayscale_image = color.rgb2gray(data)\n",
    "    features = hog(grayscale_image, \n",
    "                   orientations=30, \n",
    "                   pixels_per_cell=(16, 16), \n",
    "                   cells_per_block=(2, 2), \n",
    "                   block_norm='L2-Hys', \n",
    "                   visualize=False, \n",
    "                   transform_sqrt=False, \n",
    "                   feature_vector=True, \n",
    "                   multichannel=None)\n",
    "    return features"
   ]
  },
  {
   "cell_type": "code",
   "execution_count": null,
   "metadata": {},
   "outputs": [],
   "source": [
    "def predict_image_class(product_model, brand_model, img):\n",
    "    preprocessed_image = preprocessing_input_image(img, (128, 128))\n",
    "    prediction_product = product_model.predict(preprocessed_image)\n",
    "    prediction_brand = product_brand.predict(preprocessed_image)\n",
    "    "
   ]
  }
 ],
 "metadata": {
  "kernelspec": {
   "display_name": "Python 3",
   "language": "python",
   "name": "python3"
  },
  "language_info": {
   "codemirror_mode": {
    "name": "ipython",
    "version": 3
   },
   "file_extension": ".py",
   "mimetype": "text/x-python",
   "name": "python",
   "nbconvert_exporter": "python",
   "pygments_lexer": "ipython3",
   "version": "3.7.4"
  }
 },
 "nbformat": 4,
 "nbformat_minor": 2
}

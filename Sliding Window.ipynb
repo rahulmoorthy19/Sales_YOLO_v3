{
 "cells": [
  {
   "cell_type": "code",
   "execution_count": 1,
   "metadata": {},
   "outputs": [],
   "source": [
    "from tensorflow.keras.preprocessing.image import img_to_array\n",
    "from imutils.object_detection import non_max_suppression\n",
    "import imutils\n",
    "import numpy as np\n",
    "import cv2\n",
    "import time\n",
    "import pickle\n",
    "import glob\n",
    "import os\n",
    "import json\n",
    "import tensorflow as tf\n",
    "from tensorflow.keras.models import load_model\n",
    "from skimage import color\n",
    "from skimage.feature import hog\n",
    "from scipy.ndimage.measurements import label\n",
    "import matplotlib.pyplot as plt"
   ]
  },
  {
   "cell_type": "code",
   "execution_count": 2,
   "metadata": {},
   "outputs": [],
   "source": [
    "def preprocessing_input_image(img, img_size):\n",
    "    resized_image = np.resize(img, img_size)\n",
    "    grayscale_image = color.rgb2gray(resized_image)\n",
    "    features = hog(grayscale_image, \n",
    "                   orientations=30, \n",
    "                   pixels_per_cell=(16, 16), \n",
    "                   cells_per_block=(2, 2), \n",
    "                   block_norm='L2-Hys', \n",
    "                   visualize=False, \n",
    "                   transform_sqrt=False, \n",
    "                   feature_vector=True, \n",
    "                   multichannel=None)\n",
    "    return features"
   ]
  },
  {
   "cell_type": "code",
   "execution_count": 3,
   "metadata": {},
   "outputs": [],
   "source": [
    "def sliding_window(image, xy_window, xy_overlap, image_size):\n",
    "    nx_pix_per_step = np.int(xy_window[0]*(1 - xy_overlap[0]))\n",
    "    ny_pix_per_step = np.int(xy_window[1]*(1 - xy_overlap[1]))\n",
    "    nx_windows = np.int(image_size[0]/nx_pix_per_step) - 1\n",
    "    ny_windows = np.int(image_size[1]/ny_pix_per_step) - 1\n",
    "    window_list = []\n",
    "    for ys in range(ny_windows):\n",
    "        for xs in range(nx_windows):\n",
    "            startx = xs*nx_pix_per_step\n",
    "            endx = startx + xy_window[0]\n",
    "            starty = ys*ny_pix_per_step\n",
    "            endy = starty + xy_window[1]\n",
    "            window_list.append(((startx, starty), (endx, endy)))\n",
    "    return window_list"
   ]
  },
  {
   "cell_type": "code",
   "execution_count": 4,
   "metadata": {},
   "outputs": [],
   "source": [
    "def search_windows(img, windows, scaler, classifier):\n",
    "    on_windows = []\n",
    "    for window in windows:\n",
    "        feature_image = preprocessing_input_image(img[window[0][1]:window[1][1], window[0][0]:window[1][0]], (128, 128,3))\n",
    "        feature_image = scaler.transform(feature_image.reshape(1,-1))\n",
    "        prediction = classifier.predict(feature_image)\n",
    "        if max(prediction)>0.8:\n",
    "            if classifier.predict_classes(feature_image) is not 0:\n",
    "                on_windows.append(window)\n",
    "    return on_windows"
   ]
  },
  {
   "cell_type": "code",
   "execution_count": 5,
   "metadata": {},
   "outputs": [],
   "source": [
    "def draw_boxes(img, bboxes, color=(0, 0, 255), thick=6):\n",
    "    imcopy = np.copy(img)\n",
    "    for bbox in bboxes:\n",
    "        cv2.rectangle(imcopy, bbox[0], bbox[1], color, thick)\n",
    "    return imcopy"
   ]
  },
  {
   "cell_type": "code",
   "execution_count": 6,
   "metadata": {},
   "outputs": [],
   "source": [
    "def add_heat(heatmap, bbox_list):\n",
    "    for box in bbox_list:\n",
    "        heatmap[box[0][1]:box[1][1], box[0][0]:box[1][0]] += 1\n",
    "    return heatmap"
   ]
  },
  {
   "cell_type": "code",
   "execution_count": 7,
   "metadata": {},
   "outputs": [],
   "source": [
    "def apply_threshold(heatmap, threshold):\n",
    "    heatmap[heatmap <= threshold] = 0\n",
    "    return heatmap"
   ]
  },
  {
   "cell_type": "code",
   "execution_count": 8,
   "metadata": {},
   "outputs": [],
   "source": [
    "def draw_labeled_bboxes(img, labels):\n",
    "    for product_number in range(1, labels[1]+1):\n",
    "        nonzero = (labels[0] == product_number).nonzero()\n",
    "        nonzeroy = np.array(nonzero[0])\n",
    "        nonzerox = np.array(nonzero[1])\n",
    "        bbox = ((np.min(nonzerox), np.min(nonzeroy)), (np.max(nonzerox), np.max(nonzeroy)))\n",
    "#         bbox_w = (bbox[1][0] - bbox[0][0])\n",
    "#         bbox_h = (bbox[1][1] - bbox[0][1])\n",
    "#         # Filter final detections for aspect ratios, e.g. thin vertical box is likely not a car\n",
    "#         aspect_ratio = bbox_w / bbox_h  # width / height\n",
    "#         #print('ar: %s' % (aspect_ratio,))\n",
    "\n",
    "#         # Also if small box \"close\" to the car (i.e. bounding box y location is high),\n",
    "#         # then probaby not a car\n",
    "#         bbox_area = bbox_w * bbox_h\n",
    "#         # Combine above filters with minimum bbox area filter\n",
    "# #         if aspect_ratio > 0.5 and aspect_ratio < max_ar and not small_box_close and bbox_area > min_bbox_area:\n",
    "#             # Draw the box on the image\n",
    "        cv2.rectangle(img, bbox[0], bbox[1], (0,0,255), 6)\n",
    "\n",
    "    return img"
   ]
  },
  {
   "cell_type": "code",
   "execution_count": 9,
   "metadata": {},
   "outputs": [],
   "source": [
    "def object_detection_pipeline():\n",
    "    with open('config.json') as json_file:\n",
    "        data = json.load(json_file)\n",
    "    train_scaler = pickle.load( open( \"scalers//hog_product_scaler.pkl\", \"rb\" ) )\n",
    "    product_classifier = load_model(\"models//hog_product_model.h5\")\n",
    "    count_dict = {}\n",
    "    for image_file in glob.glob(data[\"object_detector_directory\"][\"test_object_dir\"]+\"*.JPG\"):\n",
    "        image = cv2.imread(image_file)\n",
    "        resized = cv2.resize(image, (350, 350), interpolation=cv2.INTER_CUBIC)\n",
    "        draw_image = np.copy(resized)\n",
    "        windows = sliding_window(resized, (30, 55), (0.7, 0.7), (350, 350))\n",
    "        hot_windows = search_windows(resized, windows, train_scaler, product_classifier)\n",
    "        window_img = draw_boxes(resized, hot_windows , color=(0, 0, 255), thick=6)\n",
    "#         plt.imshow(window_img)\n",
    "#         plt.show()\n",
    "        heatmap = np.zeros((350, 350))  # NOTE: Image dimensions hard-coded\n",
    "        heatmap = add_heat(heatmap, hot_windows)\n",
    "        heatmap = apply_threshold(heatmap, 2)\n",
    "        labels = label(heatmap)\n",
    "#         print(labels[1], 'products found')\n",
    "#         plt.imshow(labels[0], cmap='gray')\n",
    "#         plt.show()\n",
    "            # Draw final bounding boxes\n",
    "        draw_img = draw_labeled_bboxes(np.copy(resized), labels)\n",
    "        count_dict[os.path.basename(image_file)] = labels[1]\n",
    "    out_file = open(\"image2products.json\", \"w\") \n",
    "    json.dump(count_dict, out_file, indent = 6) \n",
    "    out_file.close() "
   ]
  },
  {
   "cell_type": "code",
   "execution_count": 10,
   "metadata": {},
   "outputs": [
    {
     "name": "stdout",
     "output_type": "stream",
     "text": [
      "WARNING:tensorflow:From <ipython-input-4-78282c717254>:8: Sequential.predict_classes (from tensorflow.python.keras.engine.sequential) is deprecated and will be removed after 2021-01-01.\n",
      "Instructions for updating:\n",
      "Please use instead:* `np.argmax(model.predict(x), axis=-1)`,   if your model does multi-class classification   (e.g. if it uses a `softmax` last-layer activation).* `(model.predict(x) > 0.5).astype(\"int32\")`,   if your model does binary classification   (e.g. if it uses a `sigmoid` last-layer activation).\n"
     ]
    }
   ],
   "source": [
    "object_detection_pipeline()"
   ]
  },
  {
   "cell_type": "code",
   "execution_count": null,
   "metadata": {},
   "outputs": [],
   "source": []
  }
 ],
 "metadata": {
  "kernelspec": {
   "display_name": "Python 3",
   "language": "python",
   "name": "python3"
  },
  "language_info": {
   "codemirror_mode": {
    "name": "ipython",
    "version": 3
   },
   "file_extension": ".py",
   "mimetype": "text/x-python",
   "name": "python",
   "nbconvert_exporter": "python",
   "pygments_lexer": "ipython3",
   "version": "3.7.4"
  }
 },
 "nbformat": 4,
 "nbformat_minor": 2
}

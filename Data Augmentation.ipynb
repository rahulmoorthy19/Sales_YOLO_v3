{
 "cells": [
  {
   "cell_type": "code",
   "execution_count": 1,
   "metadata": {},
   "outputs": [],
   "source": [
    "from tensorflow.keras.preprocessing.image import ImageDataGenerator\n",
    "from tensorflow.keras.preprocessing.image import img_to_array\n",
    "from tensorflow.keras.preprocessing.image import load_img\n",
    "import numpy as np\n",
    "import json\n",
    "import glob\n",
    "import os\n",
    "import random\n",
    "import shutil"
   ]
  },
  {
   "cell_type": "code",
   "execution_count": 2,
   "metadata": {},
   "outputs": [],
   "source": [
    "def image_dir_augmentor(input_dir_name,output_dir_name, num_images):\n",
    "    for each in sorted(glob.glob(input_dir_name+\"*.JPG\")):\n",
    "        image = load_img(each)\n",
    "        image = img_to_array(image)\n",
    "        image = np.expand_dims(image, axis=0)\n",
    "        aug = ImageDataGenerator(\n",
    "                rotation_range=30,\n",
    "                zoom_range=0.15,\n",
    "                width_shift_range=0.2,\n",
    "                height_shift_range=0.2,\n",
    "                shear_range=0.15,\n",
    "                horizontal_flip=True,\n",
    "                fill_mode=\"nearest\")\n",
    "        total=0\n",
    "        imageGen = aug.flow(image, batch_size=1, save_to_dir=output_dir_name,\n",
    "                                save_prefix=\"image\", save_format=\"PNG\")\n",
    "    for each in sorted(glob.glob(input_dir_name+\"*.PNG\")):\n",
    "        image = load_img(each)\n",
    "        image = img_to_array(image)\n",
    "        image = np.expand_dims(image, axis=0)\n",
    "        aug = ImageDataGenerator(\n",
    "                rotation_range=30,\n",
    "                zoom_range=0.15,\n",
    "                width_shift_range=0.2,\n",
    "                height_shift_range=0.2,\n",
    "                shear_range=0.15,\n",
    "                horizontal_flip=True,\n",
    "                fill_mode=\"nearest\")\n",
    "        total=0\n",
    "        imageGen = aug.flow(image, batch_size=1, save_to_dir=output_dir_name,\n",
    "                                save_prefix=\"image\", save_format=\"PNG\")\n",
    "        for image in imageGen:\n",
    "            total += 1\n",
    "            if total == num_images:\n",
    "                break\n",
    "    print(\"Augmentation of this class complete\")"
   ]
  },
  {
   "cell_type": "code",
   "execution_count": 3,
   "metadata": {},
   "outputs": [],
   "source": [
    "def data_augmentation(num_images):\n",
    "    with open('config.json') as json_file:\n",
    "            data = json.load(json_file)\n",
    "    all_label_dir = glob.glob(data[\"augmentation_paths\"][\"augmentation_input_dir\"]+\"*\"+\"\\\\\")\n",
    "    try:\n",
    "        os.mkdir(data[\"augmentation_paths\"][\"augmentation_output_dir\"])\n",
    "    except FileExistsError:\n",
    "        pass\n",
    "    for each in all_label_dir:\n",
    "        label= int(os.path.basename(os.path.dirname(each)))\n",
    "        if num_images[label-1] is not 0:\n",
    "            try:\n",
    "                os.mkdir(data[\"augmentation_paths\"][\"augmentation_output_dir\"]+str(label))\n",
    "            except FileExistsError:\n",
    "                pass    \n",
    "            image_dir_augmentor(each, data[\"augmentation_paths\"][\"augmentation_output_dir\"]+str(label), num_images[label-1])\n",
    "    print(\"Full Augmentation Done\")"
   ]
  },
  {
   "cell_type": "code",
   "execution_count": 4,
   "metadata": {},
   "outputs": [],
   "source": [
    "def data_removal(num_images):\n",
    "    with open('config.json') as json_file:\n",
    "            data = json.load(json_file)\n",
    "    all_label_dir = glob.glob(\"A:\\\\Infilect_project\\\\Product_detector\\\\Dataset\\\\ProductImagesFromShelves\\\\train\\\\0\\\\\"+\"*.PNG\")\n",
    "    files = random.sample(all_label_dir, num_images)\n",
    "    for file in files:\n",
    "        os.remove(file)\n",
    "    print(\"data undersampling completed\")"
   ]
  },
  {
   "cell_type": "code",
   "execution_count": 5,
   "metadata": {},
   "outputs": [],
   "source": [
    "def copy_files():\n",
    "    with open('config.json') as json_file:\n",
    "            data = json.load(json_file)\n",
    "    dest_dir = data[\"augmentation_paths\"][\"augmentation_input_dir\"]\n",
    "    src_dir = glob.glob(data[\"augmentation_paths\"][\"augmentation_output_dir\"]+\"*\"+\"\\\\\")\n",
    "    for i in src_dir:\n",
    "        for each in glob.glob(i+\"*.PNG\"):\n",
    "            shutil.copy2(each,data[\"augmentation_paths\"][\"augmentation_input_dir\"] + os.path.basename(os.path.dirname(each)))\n",
    "    print(\"Copying Files complete\")"
   ]
  },
  {
   "cell_type": "code",
   "execution_count": 6,
   "metadata": {},
   "outputs": [
    {
     "name": "stdout",
     "output_type": "stream",
     "text": [
      "Augmentation of this class complete\n",
      "Augmentation of this class complete\n",
      "Augmentation of this class complete\n",
      "Augmentation of this class complete\n",
      "Augmentation of this class complete\n",
      "Augmentation of this class complete\n",
      "Augmentation of this class complete\n",
      "Augmentation of this class complete\n",
      "Augmentation of this class complete\n",
      "Augmentation of this class complete\n",
      "Full Augmentation Done\n"
     ]
    }
   ],
   "source": [
    "data_augmentation([3,1,7,2,2,3,3,4,5,5])"
   ]
  },
  {
   "cell_type": "code",
   "execution_count": 6,
   "metadata": {},
   "outputs": [
    {
     "name": "stdout",
     "output_type": "stream",
     "text": [
      "Copying Files complete\n"
     ]
    }
   ],
   "source": [
    "copy_files()"
   ]
  },
  {
   "cell_type": "code",
   "execution_count": 7,
   "metadata": {},
   "outputs": [
    {
     "name": "stdout",
     "output_type": "stream",
     "text": [
      "data undersampling completed\n"
     ]
    }
   ],
   "source": [
    "data_removal(2000)"
   ]
  },
  {
   "cell_type": "code",
   "execution_count": null,
   "metadata": {},
   "outputs": [],
   "source": []
  }
 ],
 "metadata": {
  "kernelspec": {
   "display_name": "Python 3",
   "language": "python",
   "name": "python3"
  },
  "language_info": {
   "codemirror_mode": {
    "name": "ipython",
    "version": 3
   },
   "file_extension": ".py",
   "mimetype": "text/x-python",
   "name": "python",
   "nbconvert_exporter": "python",
   "pygments_lexer": "ipython3",
   "version": "3.7.4"
  }
 },
 "nbformat": 4,
 "nbformat_minor": 2
}

{
 "cells": [
  {
   "cell_type": "code",
   "execution_count": 1,
   "metadata": {},
   "outputs": [],
   "source": [
    "import numpy as np\n",
    "import tensorflow as tf\n",
    "import glob\n",
    "import PIL\n",
    "from PIL import Image  \n",
    "from skimage import color\n",
    "import shutil\n",
    "import json\n",
    "import os\n",
    "from skimage.feature import hog\n",
    "import pickle"
   ]
  },
  {
   "cell_type": "code",
   "execution_count": 2,
   "metadata": {},
   "outputs": [],
   "source": [
    "train_scaler = pickle.load( open( \"scalers//hog_brand_scaler.pkl\", \"rb\" ) )\n",
    "brand_model = pickle.load( open( \"models//hog_brand_model.pkl\", \"rb\" ) )"
   ]
  },
  {
   "cell_type": "code",
   "execution_count": 3,
   "metadata": {},
   "outputs": [],
   "source": [
    "def preprocessing_image(img_path,image_size, name):\n",
    "    original = Image.open(img_path)\n",
    "    if name == \"brand\":\n",
    "        width, height = original.size\n",
    "        original = original.crop((0, 0, width, int(height/3)))\n",
    "    resized_image = original.resize(image_size)\n",
    "    resized_image.load()\n",
    "    data = np.asarray( resized_image, dtype=\"int32\" )\n",
    "    grayscale_image = color.rgb2gray(data)\n",
    "    features = hog(grayscale_image, \n",
    "                   orientations=30, \n",
    "                   pixels_per_cell=(16, 16), \n",
    "                   cells_per_block=(2, 2), \n",
    "                   block_norm='L2-Hys', \n",
    "                   visualize=False, \n",
    "                   transform_sqrt=False, \n",
    "                   feature_vector=True, \n",
    "                   multichannel=None)\n",
    "    return features"
   ]
  },
  {
   "cell_type": "code",
   "execution_count": 4,
   "metadata": {},
   "outputs": [],
   "source": [
    "def data_generation(img_dir,resize_image):\n",
    "    image_data = []\n",
    "    img_label = []\n",
    "    label_counter=0\n",
    "    for each_dir in sorted(glob.glob(img_dir+\"\\\\\"+\"*\"+\"\\\\\")):\n",
    "        for each in sorted(glob.glob(each_dir+\"*.JPG\")):\n",
    "            preprocessed_image = preprocessing_image(each,resize_image, \"product\")\n",
    "            image_data.append(preprocessed_image)\n",
    "            if int(os.path.basename(os.path.dirname(each))) is not 0:\n",
    "                img_label.append(1)\n",
    "            else:\n",
    "                img_label.append(0)\n",
    "        for each in sorted(glob.glob(each_dir+\"*.PNG\")):\n",
    "            preprocessed_image = preprocessing_image(each,resize_image, \"product\")\n",
    "            image_data.append(preprocessed_image)\n",
    "            if int(os.path.basename(os.path.dirname(each))) is not 0:\n",
    "                img_label.append(1)\n",
    "            else:\n",
    "                img_label.append(0)\n",
    "    return np.array(image_data), np.array(img_label)"
   ]
  },
  {
   "cell_type": "code",
   "execution_count": 5,
   "metadata": {},
   "outputs": [],
   "source": [
    "def train_test_divider(dir_label, img_dir, train_obj_dir, test_obj_dir, train_dir, test_dir):\n",
    "    train_data = [os.path.basename(i).split(\".\")[0] for i in glob.glob(train_obj_dir+\"*.JPG\")]\n",
    "    test_data = [os.path.basename(i).split(\".\")[0] for i in glob.glob(test_obj_dir+\"*.JPG\")]\n",
    "    for each in glob.glob(img_dir+\"*.PNG\"):\n",
    "        file_basename = os.path.basename(each).split(\".\")[0]\n",
    "        if file_basename in train_data:\n",
    "            try:\n",
    "                os.mkdir(train_dir + \"\\\\\" + dir_label) \n",
    "            except FileExistsError:\n",
    "                pass\n",
    "            shutil.copy2(each,train_dir + \"\\\\\" + dir_label)\n",
    "        elif file_basename in test_data:\n",
    "            try:\n",
    "                os.mkdir(test_dir + \"\\\\\" + dir_label) \n",
    "            except FileExistsError:\n",
    "                pass\n",
    "            shutil.copy2(each,test_dir + \"\\\\\" + dir_label)\n",
    "    print(\"Train Test Split Complete\")"
   ]
  },
  {
   "cell_type": "code",
   "execution_count": 6,
   "metadata": {},
   "outputs": [],
   "source": [
    "def copy_files(src_dir, target_dir):\n",
    "    src_dir = glob.glob(src_dir+\"*\"+\"\\\\\")\n",
    "    for i in src_dir:\n",
    "        for each in glob.glob(i+\"*.JPG\"):\n",
    "            shutil.copy2(each,target_dir + \"\\\\\"+ os.path.basename(os.path.dirname(each)))\n",
    "    print(\"Copying Files complete\")"
   ]
  },
  {
   "cell_type": "code",
   "execution_count": 7,
   "metadata": {},
   "outputs": [],
   "source": [
    "def misclassification_treating(each_dir, resize_image, target_dir):\n",
    "    misclassified_files = list()\n",
    "    for each in sorted(glob.glob(each_dir+\"*.PNG\")):\n",
    "        features = preprocessing_image(each,resize_image, \"brand\")\n",
    "        features = train_scaler.transform(features.reshape(1,-1))\n",
    "        class_prob = brand_model.predict_proba(features)\n",
    "        if max(class_prob[0]) > 0.8:\n",
    "            misclassified_files.append(each)\n",
    "            shutil.copy2(each,target_dir + \"\\\\\"+ str(brand_model.predict(features)[0]))\n",
    "    for each in misclassified_files:\n",
    "        os.remove(each)"
   ]
  },
  {
   "cell_type": "code",
   "execution_count": 8,
   "metadata": {},
   "outputs": [],
   "source": [
    "def data_preparation_pipeline():\n",
    "    with open('config.json') as json_file:\n",
    "        data = json.load(json_file)\n",
    "    all_label_dir = glob.glob(data[\"object_classifier_directory\"][\"img_dir\"]+\"\\\\\"+\"*\"+\"\\\\\")\n",
    "    try:\n",
    "        os.mkdir(data[\"object_classifier_directory\"][\"train_img_dir\"])\n",
    "        os.mkdir(data[\"object_classifier_directory\"][\"test_img_dir\"])\n",
    "    except FileExistsError:\n",
    "        pass\n",
    "    for each in all_label_dir:\n",
    "        train_test_divider(os.path.basename(os.path.dirname(each)), \n",
    "                           each,\n",
    "                           data[\"object_detector_directory\"][\"train_object_dir\"],\n",
    "                           data[\"object_detector_directory\"][\"test_object_dir\"],\n",
    "                           data[\"object_classifier_directory\"][\"train_img_dir\"],\n",
    "                           data[\"object_classifier_directory\"][\"test_img_dir\"],\n",
    "                           )\n",
    "#     misclassification_treating(data[\"object_classifier_directory\"][\"train_img_dir\"] + \"\\\\0\\\\\",\n",
    "#                                (128, 128), data[\"object_classifier_directory\"][\"train_img_dir\"])\n",
    "    copy_files(data[\"object_classifier_directory\"][\"product_dir\"], data[\"object_classifier_directory\"][\"train_img_dir\"])\n",
    "    full_product_data, full_product_label = data_generation(data[\"object_classifier_directory\"][\"train_img_dir\"],(128,128))\n",
    "    test_product_data, test_product_label = data_generation(data[\"object_classifier_directory\"][\"test_img_dir\"], (128,128))\n",
    "    np.save(\"features\\\\hog_product_train_array.npy\",full_product_data)\n",
    "    np.save(\"features\\\\hog_product_test_array.npy\",test_product_data)\n",
    "    np.save(\"features\\\\hog_product_train_label\", full_product_label)\n",
    "    np.save(\"features\\\\hog_product_test_label\", test_product_label)\n",
    "    print(\"Final Feature Arrays for Classification Created\")"
   ]
  },
  {
   "cell_type": "code",
   "execution_count": 9,
   "metadata": {},
   "outputs": [
    {
     "name": "stdout",
     "output_type": "stream",
     "text": [
      "Train Test Split Complete\n",
      "Train Test Split Complete\n",
      "Train Test Split Complete\n",
      "Train Test Split Complete\n",
      "Train Test Split Complete\n",
      "Train Test Split Complete\n",
      "Train Test Split Complete\n",
      "Train Test Split Complete\n",
      "Train Test Split Complete\n",
      "Train Test Split Complete\n",
      "Train Test Split Complete\n",
      "Copying Files complete\n",
      "Final Feature Arrays for Classification Created\n"
     ]
    }
   ],
   "source": [
    "data_preparation_pipeline()"
   ]
  },
  {
   "cell_type": "code",
   "execution_count": null,
   "metadata": {},
   "outputs": [],
   "source": []
  },
  {
   "cell_type": "code",
   "execution_count": null,
   "metadata": {},
   "outputs": [],
   "source": []
  }
 ],
 "metadata": {
  "kernelspec": {
   "display_name": "Python 3",
   "language": "python",
   "name": "python3"
  },
  "language_info": {
   "codemirror_mode": {
    "name": "ipython",
    "version": 3
   },
   "file_extension": ".py",
   "mimetype": "text/x-python",
   "name": "python",
   "nbconvert_exporter": "python",
   "pygments_lexer": "ipython3",
   "version": "3.7.4"
  }
 },
 "nbformat": 4,
 "nbformat_minor": 2
}
